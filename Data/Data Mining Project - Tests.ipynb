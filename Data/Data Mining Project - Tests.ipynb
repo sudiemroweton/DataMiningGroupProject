{
 "cells": [
  {
   "cell_type": "code",
   "execution_count": 70,
   "metadata": {},
   "outputs": [],
   "source": [
    "import numpy as np\n",
    "import pandas as pd\n",
    "import matplotlib.pyplot as plt\n",
    "\n",
    "from sklearn.cluster import KMeans\n",
    "from sklearn.cluster import DBSCAN"
   ]
  },
  {
   "cell_type": "markdown",
   "metadata": {},
   "source": [
    "## Test importing Data w/ pandas"
   ]
  },
  {
   "cell_type": "code",
   "execution_count": 37,
   "metadata": {
    "scrolled": true
   },
   "outputs": [
    {
     "data": {
      "text/html": [
       "<div>\n",
       "<style scoped>\n",
       "    .dataframe tbody tr th:only-of-type {\n",
       "        vertical-align: middle;\n",
       "    }\n",
       "\n",
       "    .dataframe tbody tr th {\n",
       "        vertical-align: top;\n",
       "    }\n",
       "\n",
       "    .dataframe thead th {\n",
       "        text-align: right;\n",
       "    }\n",
       "</style>\n",
       "<table border=\"1\" class=\"dataframe\">\n",
       "  <thead>\n",
       "    <tr style=\"text-align: right;\">\n",
       "      <th></th>\n",
       "      <th>State</th>\n",
       "      <th>County</th>\n",
       "      <th>2000</th>\n",
       "      <th>2001</th>\n",
       "      <th>2002</th>\n",
       "      <th>2003</th>\n",
       "      <th>2004</th>\n",
       "      <th>2005</th>\n",
       "      <th>2006</th>\n",
       "      <th>2007</th>\n",
       "      <th>2008</th>\n",
       "      <th>2009</th>\n",
       "      <th>2010</th>\n",
       "      <th>2011</th>\n",
       "      <th>2012</th>\n",
       "      <th>2013</th>\n",
       "      <th>2014</th>\n",
       "      <th>2015</th>\n",
       "    </tr>\n",
       "  </thead>\n",
       "  <tbody>\n",
       "    <tr>\n",
       "      <th>0</th>\n",
       "      <td>CA</td>\n",
       "      <td>Alameda County</td>\n",
       "      <td>66.97291</td>\n",
       "      <td>62.60701</td>\n",
       "      <td>69.83078</td>\n",
       "      <td>61.47867</td>\n",
       "      <td>63.35939</td>\n",
       "      <td>64.09789</td>\n",
       "      <td>70.12885</td>\n",
       "      <td>69.65649</td>\n",
       "      <td>71.62160</td>\n",
       "      <td>67.53244</td>\n",
       "      <td>64.21551</td>\n",
       "      <td>66.18717</td>\n",
       "      <td>68.91489</td>\n",
       "      <td>73.04459</td>\n",
       "      <td>69.42770</td>\n",
       "      <td>67.73860</td>\n",
       "    </tr>\n",
       "    <tr>\n",
       "      <th>1</th>\n",
       "      <td>CA</td>\n",
       "      <td>Alpine County</td>\n",
       "      <td>0.00000</td>\n",
       "      <td>0.00000</td>\n",
       "      <td>80.84074</td>\n",
       "      <td>162.20600</td>\n",
       "      <td>0.00000</td>\n",
       "      <td>82.03445</td>\n",
       "      <td>78.36991</td>\n",
       "      <td>0.00000</td>\n",
       "      <td>0.00000</td>\n",
       "      <td>167.08438</td>\n",
       "      <td>0.00000</td>\n",
       "      <td>180.34265</td>\n",
       "      <td>0.00000</td>\n",
       "      <td>262.92726</td>\n",
       "      <td>90.57971</td>\n",
       "      <td>0.00000</td>\n",
       "    </tr>\n",
       "    <tr>\n",
       "      <th>2</th>\n",
       "      <td>CA</td>\n",
       "      <td>Amador County</td>\n",
       "      <td>82.49652</td>\n",
       "      <td>81.23932</td>\n",
       "      <td>131.28744</td>\n",
       "      <td>113.53192</td>\n",
       "      <td>101.60428</td>\n",
       "      <td>99.89485</td>\n",
       "      <td>62.57659</td>\n",
       "      <td>87.72835</td>\n",
       "      <td>122.88224</td>\n",
       "      <td>122.91438</td>\n",
       "      <td>105.62729</td>\n",
       "      <td>119.92325</td>\n",
       "      <td>126.72221</td>\n",
       "      <td>106.62730</td>\n",
       "      <td>81.65709</td>\n",
       "      <td>102.63058</td>\n",
       "    </tr>\n",
       "    <tr>\n",
       "      <th>3</th>\n",
       "      <td>CA</td>\n",
       "      <td>Butte County</td>\n",
       "      <td>93.22545</td>\n",
       "      <td>74.20233</td>\n",
       "      <td>90.85692</td>\n",
       "      <td>71.40121</td>\n",
       "      <td>76.50248</td>\n",
       "      <td>75.43585</td>\n",
       "      <td>82.55544</td>\n",
       "      <td>83.23025</td>\n",
       "      <td>80.35282</td>\n",
       "      <td>104.19653</td>\n",
       "      <td>89.09779</td>\n",
       "      <td>93.64190</td>\n",
       "      <td>80.47744</td>\n",
       "      <td>80.13831</td>\n",
       "      <td>83.04535</td>\n",
       "      <td>81.24270</td>\n",
       "    </tr>\n",
       "    <tr>\n",
       "      <th>4</th>\n",
       "      <td>CA</td>\n",
       "      <td>Calaveras County</td>\n",
       "      <td>113.17505</td>\n",
       "      <td>92.00077</td>\n",
       "      <td>92.02454</td>\n",
       "      <td>89.13267</td>\n",
       "      <td>110.03818</td>\n",
       "      <td>88.30997</td>\n",
       "      <td>115.10479</td>\n",
       "      <td>92.93680</td>\n",
       "      <td>84.29698</td>\n",
       "      <td>82.78867</td>\n",
       "      <td>103.38305</td>\n",
       "      <td>90.89700</td>\n",
       "      <td>80.42895</td>\n",
       "      <td>71.78590</td>\n",
       "      <td>71.76658</td>\n",
       "      <td>98.12667</td>\n",
       "    </tr>\n",
       "  </tbody>\n",
       "</table>\n",
       "</div>"
      ],
      "text/plain": [
       "  State              County       2000      2001       2002       2003  \\\n",
       "0    CA     Alameda County    66.97291  62.60701   69.83078   61.47867   \n",
       "1    CA      Alpine County     0.00000   0.00000   80.84074  162.20600   \n",
       "2    CA      Amador County    82.49652  81.23932  131.28744  113.53192   \n",
       "3    CA       Butte County    93.22545  74.20233   90.85692   71.40121   \n",
       "4    CA   Calaveras County   113.17505  92.00077   92.02454   89.13267   \n",
       "\n",
       "        2004      2005       2006      2007       2008       2009       2010  \\\n",
       "0   63.35939  64.09789   70.12885  69.65649   71.62160   67.53244   64.21551   \n",
       "1    0.00000  82.03445   78.36991   0.00000    0.00000  167.08438    0.00000   \n",
       "2  101.60428  99.89485   62.57659  87.72835  122.88224  122.91438  105.62729   \n",
       "3   76.50248  75.43585   82.55544  83.23025   80.35282  104.19653   89.09779   \n",
       "4  110.03818  88.30997  115.10479  92.93680   84.29698   82.78867  103.38305   \n",
       "\n",
       "        2011       2012       2013      2014       2015  \n",
       "0   66.18717   68.91489   73.04459  69.42770   67.73860  \n",
       "1  180.34265    0.00000  262.92726  90.57971    0.00000  \n",
       "2  119.92325  126.72221  106.62730  81.65709  102.63058  \n",
       "3   93.64190   80.47744   80.13831  83.04535   81.24270  \n",
       "4   90.89700   80.42895   71.78590  71.76658   98.12667  "
      ]
     },
     "execution_count": 37,
     "metadata": {},
     "output_type": "execute_result"
    }
   ],
   "source": [
    "breast_incidence = pd.read_csv('BreastIncidence00-15reshape.csv')\n",
    "breast_incidence.head()"
   ]
  },
  {
   "cell_type": "code",
   "execution_count": 13,
   "metadata": {},
   "outputs": [
    {
     "data": {
      "text/plain": [
       "(613, 18)"
      ]
     },
     "execution_count": 13,
     "metadata": {},
     "output_type": "execute_result"
    }
   ],
   "source": [
    "breast_incidence.shape"
   ]
  },
  {
   "cell_type": "code",
   "execution_count": 38,
   "metadata": {},
   "outputs": [
    {
     "data": {
      "text/html": [
       "<div>\n",
       "<style scoped>\n",
       "    .dataframe tbody tr th:only-of-type {\n",
       "        vertical-align: middle;\n",
       "    }\n",
       "\n",
       "    .dataframe tbody tr th {\n",
       "        vertical-align: top;\n",
       "    }\n",
       "\n",
       "    .dataframe thead th {\n",
       "        text-align: right;\n",
       "    }\n",
       "</style>\n",
       "<table border=\"1\" class=\"dataframe\">\n",
       "  <thead>\n",
       "    <tr style=\"text-align: right;\">\n",
       "      <th></th>\n",
       "      <th>2000</th>\n",
       "      <th>2001</th>\n",
       "      <th>2002</th>\n",
       "      <th>2003</th>\n",
       "      <th>2004</th>\n",
       "      <th>2005</th>\n",
       "      <th>2006</th>\n",
       "      <th>2007</th>\n",
       "      <th>2008</th>\n",
       "      <th>2009</th>\n",
       "      <th>2010</th>\n",
       "      <th>2011</th>\n",
       "      <th>2012</th>\n",
       "      <th>2013</th>\n",
       "      <th>2014</th>\n",
       "      <th>2015</th>\n",
       "    </tr>\n",
       "  </thead>\n",
       "  <tbody>\n",
       "    <tr>\n",
       "      <th>0</th>\n",
       "      <td>66.97291</td>\n",
       "      <td>62.60701</td>\n",
       "      <td>69.83078</td>\n",
       "      <td>61.47867</td>\n",
       "      <td>63.35939</td>\n",
       "      <td>64.09789</td>\n",
       "      <td>70.12885</td>\n",
       "      <td>69.65649</td>\n",
       "      <td>71.62160</td>\n",
       "      <td>67.53244</td>\n",
       "      <td>64.21551</td>\n",
       "      <td>66.18717</td>\n",
       "      <td>68.91489</td>\n",
       "      <td>73.04459</td>\n",
       "      <td>69.42770</td>\n",
       "      <td>67.73860</td>\n",
       "    </tr>\n",
       "    <tr>\n",
       "      <th>2</th>\n",
       "      <td>82.49652</td>\n",
       "      <td>81.23932</td>\n",
       "      <td>131.28744</td>\n",
       "      <td>113.53192</td>\n",
       "      <td>101.60428</td>\n",
       "      <td>99.89485</td>\n",
       "      <td>62.57659</td>\n",
       "      <td>87.72835</td>\n",
       "      <td>122.88224</td>\n",
       "      <td>122.91438</td>\n",
       "      <td>105.62729</td>\n",
       "      <td>119.92325</td>\n",
       "      <td>126.72221</td>\n",
       "      <td>106.62730</td>\n",
       "      <td>81.65709</td>\n",
       "      <td>102.63058</td>\n",
       "    </tr>\n",
       "    <tr>\n",
       "      <th>3</th>\n",
       "      <td>93.22545</td>\n",
       "      <td>74.20233</td>\n",
       "      <td>90.85692</td>\n",
       "      <td>71.40121</td>\n",
       "      <td>76.50248</td>\n",
       "      <td>75.43585</td>\n",
       "      <td>82.55544</td>\n",
       "      <td>83.23025</td>\n",
       "      <td>80.35282</td>\n",
       "      <td>104.19653</td>\n",
       "      <td>89.09779</td>\n",
       "      <td>93.64190</td>\n",
       "      <td>80.47744</td>\n",
       "      <td>80.13831</td>\n",
       "      <td>83.04535</td>\n",
       "      <td>81.24270</td>\n",
       "    </tr>\n",
       "    <tr>\n",
       "      <th>4</th>\n",
       "      <td>113.17505</td>\n",
       "      <td>92.00077</td>\n",
       "      <td>92.02454</td>\n",
       "      <td>89.13267</td>\n",
       "      <td>110.03818</td>\n",
       "      <td>88.30997</td>\n",
       "      <td>115.10479</td>\n",
       "      <td>92.93680</td>\n",
       "      <td>84.29698</td>\n",
       "      <td>82.78867</td>\n",
       "      <td>103.38305</td>\n",
       "      <td>90.89700</td>\n",
       "      <td>80.42895</td>\n",
       "      <td>71.78590</td>\n",
       "      <td>71.76658</td>\n",
       "      <td>98.12667</td>\n",
       "    </tr>\n",
       "    <tr>\n",
       "      <th>5</th>\n",
       "      <td>58.45778</td>\n",
       "      <td>26.28535</td>\n",
       "      <td>57.19634</td>\n",
       "      <td>71.54538</td>\n",
       "      <td>24.74390</td>\n",
       "      <td>82.76534</td>\n",
       "      <td>19.14792</td>\n",
       "      <td>52.19454</td>\n",
       "      <td>33.12198</td>\n",
       "      <td>65.88235</td>\n",
       "      <td>74.60599</td>\n",
       "      <td>23.40167</td>\n",
       "      <td>65.65680</td>\n",
       "      <td>46.89992</td>\n",
       "      <td>28.22732</td>\n",
       "      <td>75.05395</td>\n",
       "    </tr>\n",
       "  </tbody>\n",
       "</table>\n",
       "</div>"
      ],
      "text/plain": [
       "        2000      2001       2002       2003       2004      2005       2006  \\\n",
       "0   66.97291  62.60701   69.83078   61.47867   63.35939  64.09789   70.12885   \n",
       "2   82.49652  81.23932  131.28744  113.53192  101.60428  99.89485   62.57659   \n",
       "3   93.22545  74.20233   90.85692   71.40121   76.50248  75.43585   82.55544   \n",
       "4  113.17505  92.00077   92.02454   89.13267  110.03818  88.30997  115.10479   \n",
       "5   58.45778  26.28535   57.19634   71.54538   24.74390  82.76534   19.14792   \n",
       "\n",
       "       2007       2008       2009       2010       2011       2012       2013  \\\n",
       "0  69.65649   71.62160   67.53244   64.21551   66.18717   68.91489   73.04459   \n",
       "2  87.72835  122.88224  122.91438  105.62729  119.92325  126.72221  106.62730   \n",
       "3  83.23025   80.35282  104.19653   89.09779   93.64190   80.47744   80.13831   \n",
       "4  92.93680   84.29698   82.78867  103.38305   90.89700   80.42895   71.78590   \n",
       "5  52.19454   33.12198   65.88235   74.60599   23.40167   65.65680   46.89992   \n",
       "\n",
       "       2014       2015  \n",
       "0  69.42770   67.73860  \n",
       "2  81.65709  102.63058  \n",
       "3  83.04535   81.24270  \n",
       "4  71.76658   98.12667  \n",
       "5  28.22732   75.05395  "
      ]
     },
     "execution_count": 38,
     "metadata": {},
     "output_type": "execute_result"
    }
   ],
   "source": [
    "bi_no_zero = breast_incidence[~(breast_incidence == 0).any(axis=1)]\n",
    "breast_incidence_counties = bi_no_zero.loc[:, 'State':'County']\n",
    "breast_incidence_trim = bi_no_zero.loc[:, '2000':]\n",
    "breast_incidence_trim.head()"
   ]
  },
  {
   "cell_type": "code",
   "execution_count": 24,
   "metadata": {},
   "outputs": [
    {
     "data": {
      "text/html": [
       "<div>\n",
       "<style scoped>\n",
       "    .dataframe tbody tr th:only-of-type {\n",
       "        vertical-align: middle;\n",
       "    }\n",
       "\n",
       "    .dataframe tbody tr th {\n",
       "        vertical-align: top;\n",
       "    }\n",
       "\n",
       "    .dataframe thead th {\n",
       "        text-align: right;\n",
       "    }\n",
       "</style>\n",
       "<table border=\"1\" class=\"dataframe\">\n",
       "  <thead>\n",
       "    <tr style=\"text-align: right;\">\n",
       "      <th></th>\n",
       "      <th>State</th>\n",
       "      <th>County</th>\n",
       "    </tr>\n",
       "  </thead>\n",
       "  <tbody>\n",
       "    <tr>\n",
       "      <th>0</th>\n",
       "      <td>CA</td>\n",
       "      <td>Alameda County</td>\n",
       "    </tr>\n",
       "    <tr>\n",
       "      <th>2</th>\n",
       "      <td>CA</td>\n",
       "      <td>Amador County</td>\n",
       "    </tr>\n",
       "    <tr>\n",
       "      <th>3</th>\n",
       "      <td>CA</td>\n",
       "      <td>Butte County</td>\n",
       "    </tr>\n",
       "    <tr>\n",
       "      <th>4</th>\n",
       "      <td>CA</td>\n",
       "      <td>Calaveras County</td>\n",
       "    </tr>\n",
       "    <tr>\n",
       "      <th>5</th>\n",
       "      <td>CA</td>\n",
       "      <td>Colusa County</td>\n",
       "    </tr>\n",
       "  </tbody>\n",
       "</table>\n",
       "</div>"
      ],
      "text/plain": [
       "  State              County\n",
       "0    CA     Alameda County \n",
       "2    CA      Amador County \n",
       "3    CA       Butte County \n",
       "4    CA   Calaveras County \n",
       "5    CA      Colusa County "
      ]
     },
     "execution_count": 24,
     "metadata": {},
     "output_type": "execute_result"
    }
   ],
   "source": [
    "breast_incidence_counties.head()"
   ]
  },
  {
   "cell_type": "code",
   "execution_count": 9,
   "metadata": {},
   "outputs": [
    {
     "data": {
      "text/plain": [
       "(579, 18)"
      ]
     },
     "execution_count": 9,
     "metadata": {},
     "output_type": "execute_result"
    }
   ],
   "source": [
    "breast_incidence_trim.shape"
   ]
  },
  {
   "cell_type": "markdown",
   "metadata": {},
   "source": [
    "# Testing KMeans from SciKit Learn"
   ]
  },
  {
   "cell_type": "code",
   "execution_count": 69,
   "metadata": {},
   "outputs": [
    {
     "name": "stdout",
     "output_type": "stream",
     "text": [
      "Raw Data shape: (613, 18)\n",
      "Trimmed Data shape: (579, 18)\n"
     ]
    },
    {
     "data": {
      "text/plain": [
       "[<matplotlib.lines.Line2D at 0x2255650c940>]"
      ]
     },
     "execution_count": 69,
     "metadata": {},
     "output_type": "execute_result"
    },
    {
     "data": {
      "image/png": "[encoded data removed]",
      "text/plain": [
       "<Figure size 432x288 with 1 Axes>"
      ]
     },
     "metadata": {},
     "output_type": "display_data"
    }
   ],
   "source": [
    "# Breast Incidence 2000 - 2015\n",
    "# load the data into a pandas dataframe\n",
    "raw_data = pd.read_csv('BreastIncidence00-15reshape.csv')\n",
    "print(\"Raw Data shape: {}\".format(raw_data.shape))\n",
    "# remove rows with 0 values\n",
    "raw_data_no_zero = raw_data[~(raw_data == 0).any(axis=1)]\n",
    "print(\"Trimmed Data shape: {}\".format(raw_data_no_zero.shape))\n",
    "# slice the data into state-county labels and yearly data\n",
    "breast_data_labels = raw_data_no_zero.loc[:, 'State':'County']\n",
    "breast_data_trim = raw_data_no_zero.loc[:, '2000':]\n",
    "n = 20  # number of clusters\n",
    "scores = []\n",
    "for c in range(1, n):\n",
    "    kmeans = KMeans(n_clusters = c)\n",
    "    kmeans = kmeans.fit(breast_data_trim)\n",
    "    bi_score = kmeans.score(breast_data_trim)\n",
    "    scores.append(abs(bi_score))\n",
    "plt.plot([i for i in range(1, n)], scores, 'bo')"
   ]
  },
  {
   "cell_type": "code",
   "execution_count": 63,
   "metadata": {},
   "outputs": [
    {
     "name": "stdout",
     "output_type": "stream",
     "text": [
      "Raw Data shape: (613, 18)\n",
      "Trimmed Data shape: (175, 18)\n"
     ]
    },
    {
     "data": {
      "text/plain": [
       "[<matplotlib.lines.Line2D at 0x225562bbb38>]"
      ]
     },
     "execution_count": 63,
     "metadata": {},
     "output_type": "execute_result"
    },
    {
     "data": {
      "image/png": "[encoded data removed]",
      "text/plain": [
       "<Figure size 432x288 with 1 Axes>"
      ]
     },
     "metadata": {},
     "output_type": "display_data"
    }
   ],
   "source": [
    "# Esophagus Incidence 2000 - 2015\n",
    "# load the data into a pandas dataframe\n",
    "raw_data = pd.read_csv('EsophagusIncidence00-15reshape.csv')\n",
    "print(\"Raw Data shape: {}\".format(raw_data.shape))\n",
    "# remove rows with 0 values\n",
    "raw_data_no_zero = raw_data[~(raw_data == 0).any(axis=1)]\n",
    "print(\"Trimmed Data shape: {}\".format(raw_data_no_zero.shape))\n",
    "# slice the data into state-county labels and yearly data\n",
    "esophagus_data_labels = raw_data_no_zero.loc[:, 'State':'County']\n",
    "esophagus_data_trim = raw_data_no_zero.loc[:, '2000':]\n",
    "\n",
    "# cluster the data with scikit learn k-means\n",
    "n = 20  # number of clusters\n",
    "scores = []\n",
    "for c in range(1, n):\n",
    "    kmeans = KMeans(n_clusters = c)\n",
    "    kmeans = kmeans.fit(esophagus_data_trim)\n",
    "    bi_score = kmeans.score(esophagus_data_trim)\n",
    "    scores.append(abs(bi_score))\n",
    "# plot cost vs number of clusters\n",
    "plt.plot([i for i in range(1, n)], scores, 'bo')"
   ]
  },
  {
   "cell_type": "code",
   "execution_count": 64,
   "metadata": {},
   "outputs": [
    {
     "name": "stdout",
     "output_type": "stream",
     "text": [
      "Raw Data shape: (613, 18)\n",
      "Trimmed Data shape: (188, 18)\n"
     ]
    },
    {
     "data": {
      "text/plain": [
       "[<matplotlib.lines.Line2D at 0x22556325278>]"
      ]
     },
     "execution_count": 64,
     "metadata": {},
     "output_type": "execute_result"
    },
    {
     "data": {
      "image/png": "[encoded data removed]",
      "text/plain": [
       "<Figure size 432x288 with 1 Axes>"
      ]
     },
     "metadata": {},
     "output_type": "display_data"
    }
   ],
   "source": [
    "# Liver and Bile Duct Incidence 2000 - 2015\n",
    "# load the data into a pandas dataframe\n",
    "raw_data = pd.read_csv('LiverAndBileDuctIncidence00-15reshape.csv')\n",
    "print(\"Raw Data shape: {}\".format(raw_data.shape))\n",
    "# remove rows with 0 values\n",
    "raw_data_no_zero = raw_data[~(raw_data == 0).any(axis=1)]\n",
    "print(\"Trimmed Data shape: {}\".format(raw_data_no_zero.shape))\n",
    "# slice the data into state-county labels and yearly data\n",
    "liver_data_labels = raw_data_no_zero.loc[:, 'State':'County']\n",
    "liver_data_trim = raw_data_no_zero.loc[:, '2000':]\n",
    "\n",
    "# cluster the data with scikit learn k-means\n",
    "n = 20  # number of clusters\n",
    "scores = []\n",
    "for c in range(1, n):\n",
    "    kmeans = KMeans(n_clusters = c)\n",
    "    kmeans = kmeans.fit(liver_data_trim)\n",
    "    bi_score = kmeans.score(liver_data_trim)\n",
    "    scores.append(abs(bi_score))\n",
    "# plot cost vs number of clusters\n",
    "plt.plot([i for i in range(1, n)], scores, 'bo')"
   ]
  },
  {
   "cell_type": "code",
   "execution_count": 65,
   "metadata": {},
   "outputs": [
    {
     "name": "stdout",
     "output_type": "stream",
     "text": [
      "Raw Data shape: (613, 18)\n",
      "Trimmed Data shape: (587, 18)\n"
     ]
    },
    {
     "data": {
      "text/plain": [
       "[<matplotlib.lines.Line2D at 0x225563854a8>]"
      ]
     },
     "execution_count": 65,
     "metadata": {},
     "output_type": "execute_result"
    },
    {
     "data": {
      "image/png": "[encoded data removed]",
      "text/plain": [
       "<Figure size 432x288 with 1 Axes>"
      ]
     },
     "metadata": {},
     "output_type": "display_data"
    }
   ],
   "source": [
    "# Lung and Bronchus Incidence 2000 - 2015\n",
    "# load the data into a pandas dataframe\n",
    "raw_data = pd.read_csv('LungAndBronchusIncidence00-15reshape.csv')\n",
    "print(\"Raw Data shape: {}\".format(raw_data.shape))\n",
    "# remove rows with 0 values\n",
    "raw_data_no_zero = raw_data[~(raw_data == 0).any(axis=1)]\n",
    "print(\"Trimmed Data shape: {}\".format(raw_data_no_zero.shape))\n",
    "# slice the data into state-county labels and yearly data\n",
    "lung_data_labels = raw_data_no_zero.loc[:, 'State':'County']\n",
    "lung_data_trim = raw_data_no_zero.loc[:, '2000':]\n",
    "\n",
    "# cluster the data with scikit learn k-means\n",
    "n = 20  # number of clusters\n",
    "scores = []\n",
    "for c in range(1, n):\n",
    "    kmeans = KMeans(n_clusters = c)\n",
    "    kmeans = kmeans.fit(lung_data_trim)\n",
    "    bi_score = kmeans.score(lung_data_trim)\n",
    "    scores.append(abs(bi_score))\n",
    "# plot cost vs number of clusters\n",
    "plt.plot([i for i in range(1, n)], scores, 'bo')"
   ]
  },
  {
   "cell_type": "code",
   "execution_count": 66,
   "metadata": {},
   "outputs": [
    {
     "name": "stdout",
     "output_type": "stream",
     "text": [
      "Raw Data shape: (613, 18)\n",
      "Trimmed Data shape: (405, 18)\n"
     ]
    },
    {
     "data": {
      "text/plain": [
       "[<matplotlib.lines.Line2D at 0x225563eb208>]"
      ]
     },
     "execution_count": 66,
     "metadata": {},
     "output_type": "execute_result"
    },
    {
     "data": {
      "image/png": "[encoded data removed]",
      "text/plain": [
       "<Figure size 432x288 with 1 Axes>"
      ]
     },
     "metadata": {},
     "output_type": "display_data"
    }
   ],
   "source": [
    "# Melanomas Incidence 2000 - 2015\n",
    "# load the data into a pandas dataframe\n",
    "raw_data = pd.read_csv('MelanomasIncidence00-15reshape.csv')\n",
    "print(\"Raw Data shape: {}\".format(raw_data.shape))\n",
    "# remove rows with 0 values\n",
    "raw_data_no_zero = raw_data[~(raw_data == 0).any(axis=1)]\n",
    "print(\"Trimmed Data shape: {}\".format(raw_data_no_zero.shape))\n",
    "# slice the data into state-county labels and yearly data\n",
    "melanomas_data_labels = raw_data_no_zero.loc[:, 'State':'County']\n",
    "melanomas_data_trim = raw_data_no_zero.loc[:, '2000':]\n",
    "\n",
    "# cluster the data with scikit learn k-means\n",
    "n = 20  # number of clusters\n",
    "scores = []\n",
    "for c in range(1, n):\n",
    "    kmeans = KMeans(n_clusters = c)\n",
    "    kmeans = kmeans.fit(melanomas_data_trim)\n",
    "    bi_score = kmeans.score(melanomas_data_trim)\n",
    "    scores.append(abs(bi_score))\n",
    "# plot cost vs number of clusters\n",
    "plt.plot([i for i in range(1, n)], scores, 'bo')"
   ]
  },
  {
   "cell_type": "code",
   "execution_count": 67,
   "metadata": {},
   "outputs": [
    {
     "name": "stdout",
     "output_type": "stream",
     "text": [
      "Raw Data shape: (613, 18)\n",
      "Trimmed Data shape: (317, 18)\n"
     ]
    },
    {
     "data": {
      "text/plain": [
       "[<matplotlib.lines.Line2D at 0x2255644ddd8>]"
      ]
     },
     "execution_count": 67,
     "metadata": {},
     "output_type": "execute_result"
    },
    {
     "data": {
      "image/png": "[encoded data removed]",
      "text/plain": [
       "<Figure size 432x288 with 1 Axes>"
      ]
     },
     "metadata": {},
     "output_type": "display_data"
    }
   ],
   "source": [
    "# Pancrease Incidence 2000 - 2015\n",
    "# load the data into a pandas dataframe\n",
    "raw_data = pd.read_csv('PancreaseIncidence00-15reshape.csv')\n",
    "# remove rows with 0 values\n",
    "print(\"Raw Data shape: {}\".format(raw_data.shape))\n",
    "# remove rows with 0 values\n",
    "raw_data_no_zero = raw_data[~(raw_data == 0).any(axis=1)]\n",
    "print(\"Trimmed Data shape: {}\".format(raw_data_no_zero.shape))\n",
    "# slice the data into state-county labels and yearly data\n",
    "pancrease_data_labels = raw_data_no_zero.loc[:, 'State':'County']\n",
    "pancrease_data_trim = raw_data_no_zero.loc[:, '2000':]\n",
    "\n",
    "# cluster the data with scikit learn k-means\n",
    "n = 20  # number of clusters\n",
    "scores = []\n",
    "for c in range(1, n):\n",
    "    kmeans = KMeans(n_clusters = c)\n",
    "    kmeans = kmeans.fit(pancrease_data_trim)\n",
    "    bi_score = kmeans.score(pancrease_data_trim)\n",
    "    scores.append(abs(bi_score))\n",
    "# plot cost vs number of clusters\n",
    "plt.plot([i for i in range(1, n)], scores, 'bo')"
   ]
  },
  {
   "cell_type": "code",
   "execution_count": 68,
   "metadata": {},
   "outputs": [
    {
     "name": "stdout",
     "output_type": "stream",
     "text": [
      "Raw Data shape: (613, 18)\n",
      "Trimmed Data shape: (437, 18)\n"
     ]
    },
    {
     "data": {
      "text/plain": [
       "[<matplotlib.lines.Line2D at 0x225564afb70>]"
      ]
     },
     "execution_count": 68,
     "metadata": {},
     "output_type": "execute_result"
    },
    {
     "data": {
      "image/png": "[encoded data removed]",
      "text/plain": [
       "<Figure size 432x288 with 1 Axes>"
      ]
     },
     "metadata": {},
     "output_type": "display_data"
    }
   ],
   "source": [
    "# Urinary Bladder Incidence 2000 - 2015\n",
    "# load the data into a pandas dataframe\n",
    "raw_data = pd.read_csv('UrinaryBladderIncidence00-15reshape.csv')\n",
    "print(\"Raw Data shape: {}\".format(raw_data.shape))\n",
    "# remove rows with 0 values\n",
    "raw_data_no_zero = raw_data[~(raw_data == 0).any(axis=1)]\n",
    "print(\"Trimmed Data shape: {}\".format(raw_data_no_zero.shape))\n",
    "# slice the data into state-county labels and yearly data\n",
    "urinary_data_labels = raw_data_no_zero.loc[:, 'State':'County']\n",
    "urinary_data_trim = raw_data_no_zero.loc[:, '2000':]\n",
    "\n",
    "# cluster the data with scikit learn k-means\n",
    "n = 20  # number of clusters\n",
    "scores = []\n",
    "for c in range(1, n):\n",
    "    kmeans = KMeans(n_clusters = c)\n",
    "    kmeans = kmeans.fit(urinary_data_trim)\n",
    "    bi_score = kmeans.score(urinary_data_trim)\n",
    "    scores.append(abs(bi_score))\n",
    "# plot cost vs number of clusters\n",
    "plt.plot([i for i in range(1, n)], scores, 'bo')"
   ]
  },
  {
   "cell_type": "markdown",
   "metadata": {},
   "source": [
    "# Testing DBScan: NOT WORKING!!!!"
   ]
  },
  {
   "cell_type": "code",
   "execution_count": null,
   "metadata": {},
   "outputs": [],
   "source": [
    "# Breast Incidence 2000 - 2015\n",
    "# load the data into a pandas dataframe\n",
    "raw_data = pd.read_csv('BreastIncidence00-15reshape.csv')\n",
    "print(\"Raw Data shape: {}\".format(raw_data.shape))\n",
    "# remove rows with 0 values\n",
    "raw_data_no_zero = raw_data[~(raw_data == 0).any(axis=1)]\n",
    "print(\"Trimmed Data shape: {}\".format(raw_data_no_zero.shape))\n",
    "# slice the data into state-county labels and yearly data\n",
    "breast_data_labels = raw_data_no_zero.loc[:, 'State':'County']\n",
    "breast_data_trim = raw_data_no_zero.loc[:, '2000':]\n",
    "n = 20  # number of clusters\n",
    "scores = []\n",
    "for c in range(1, n):\n",
    "    db = DBSCAN(eps=0.3, min_samples=10)\n",
    "    db = db.fit(breast_data_trim)\n",
    "    bi_score = db.score(breast_data_trim)\n",
    "    scores.append(abs(bi_score))\n",
    "plt.plot([i for i in range(1, n)], scores, 'bo')"
   ]
  }
 ],
 "metadata": {
  "kernelspec": {
   "display_name": "Python 3",
   "language": "python",
   "name": "python3"
  },
  "language_info": {
   "codemirror_mode": {
    "name": "ipython",
    "version": 3
   },
   "file_extension": ".py",
   "mimetype": "text/x-python",
   "name": "python",
   "nbconvert_exporter": "python",
   "pygments_lexer": "ipython3",
   "version": "3.6.5"
  }
 },
 "nbformat": 4,
 "nbformat_minor": 2
}
